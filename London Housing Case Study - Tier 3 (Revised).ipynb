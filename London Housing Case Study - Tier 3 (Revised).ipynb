{
 "cells": [
  {
   "cell_type": "markdown",
   "metadata": {
    "colab_type": "text",
    "id": "Tia3MP1SJpgj"
   },
   "source": [
    "# London Housing Case Study - Tier 3 Complete\n",
    "\n",
    "## Objectives\n",
    "Hey! Great job getting through those challenging DataCamp courses. You're learning a lot in a short span of time. \n",
    "\n",
    "In this notebook, you're going to apply the skills you've been learning, bridging the gap between the controlled environment of DataCamp and the *slightly* messier work that data scientists do with actual datasets!\n",
    "\n",
    "Here’s the mystery we’re going to solve: ***which boroughs of London have seen the greatest increase in housing prices, on average, over the last two decades?***\n",
    "\n",
    "\n",
    "A borough is just a fancy word for district. You may be familiar with the five boroughs of New York… well, there are 32 boroughs within Greater London [(here's some info for the curious)](https://en.wikipedia.org/wiki/London_boroughs). Some of them are more desirable areas to live in, and the data will reflect that with a greater rise in housing prices.\n",
    "\n",
    "***This is the Tier 3 notebook, which means it's not filled in at all: we'll just give you the skeleton of a project, the brief and the data. It's up to you to play around with it and see what you can find out! Good luck! If you struggle, feel free to look at easier tiers for help; but try to dip in and out of them, as the more independent work you do, the better it is for your learning!***\n",
    "\n",
    "This challenge will make use of only what you learned in the following DataCamp courses: \n",
    "- Prework courses (Introduction to Python for Data Science, Intermediate Python for Data Science)\n",
    "- Data Types for Data Science\n",
    "- Python Data Science Toolbox (Part One) \n",
    "- pandas Foundations\n",
    "- Manipulating DataFrames with pandas\n",
    "- Merging DataFrames with pandas\n",
    "\n",
    "Of the tools, techniques and concepts in the above DataCamp courses, this challenge should require the application of the following: \n",
    "- **pandas**\n",
    "    - **data ingestion and inspection** (pandas Foundations, Module One) \n",
    "    - **exploratory data analysis** (pandas Foundations, Module Two)\n",
    "    - **tidying and cleaning** (Manipulating DataFrames with pandas, Module Three) \n",
    "    - **transforming DataFrames** (Manipulating DataFrames with pandas, Module One)\n",
    "    - **subsetting DataFrames with lists** (Manipulating DataFrames with pandas, Module One) \n",
    "    - **filtering DataFrames** (Manipulating DataFrames with pandas, Module One) \n",
    "    - **grouping data** (Manipulating DataFrames with pandas, Module Four) \n",
    "    - **melting data** (Manipulating DataFrames with pandas, Module Three) \n",
    "    - **advanced indexing** (Manipulating DataFrames with pandas, Module Four) \n",
    "- **matplotlib** (Intermediate Python for Data Science, Module One)\n",
    "- **fundamental data types** (Data Types for Data Science, Module One) \n",
    "- **dictionaries** (Intermediate Python for Data Science, Module Two)\n",
    "- **handling dates and times** (Data Types for Data Science, Module Four)\n",
    "- **function definition** (Python Data Science Toolbox - Part One, Module One)\n",
    "- **default arguments, variable length, and scope** (Python Data Science Toolbox - Part One, Module Two) \n",
    "- **lambda functions and error handling** (Python Data Science Toolbox - Part One, Module Four) "
   ]
  },
  {
   "cell_type": "markdown",
   "metadata": {
    "colab_type": "text",
    "id": "Ipgd2nV8Jpgl"
   },
   "source": [
    "## The Data Science Pipeline\n",
    "\n",
    "This is Tier Three, so we'll get you started. But after that, it's all in your hands! When you feel done with your investigations, look back over what you've accomplished, and prepare a quick presentation of your findings for the next mentor meeting. \n",
    "\n",
    "Data Science is magical. In this case study, you'll get to apply some complex machine learning algorithms. But as  [David Spiegelhalter](https://www.youtube.com/watch?v=oUs1uvsz0Ok) reminds us, there is no substitute for simply **taking a really, really good look at the data.** Sometimes, this is all we need to answer our question.\n",
    "\n",
    "Data Science projects generally adhere to the four stages of Data Science Pipeline:\n",
    "1. Sourcing and loading \n",
    "2. Cleaning, transforming, and visualizing \n",
    "3. Modeling \n",
    "4. Evaluating and concluding \n"
   ]
  },
  {
   "cell_type": "markdown",
   "metadata": {
    "colab_type": "text",
    "id": "zswDqbefJpgm"
   },
   "source": [
    "### 1. Sourcing and Loading \n",
    "\n",
    "Any Data Science project kicks off by importing  ***pandas***. The documentation of this wonderful library can be found [here](https://pandas.pydata.org/). As you've seen, pandas is conveniently connected to the [Numpy](http://www.numpy.org/) and [Matplotlib](https://matplotlib.org/) libraries. \n",
    "\n",
    "***Hint:*** This part of the data science pipeline will test those skills you acquired in the pandas Foundations course, Module One. "
   ]
  },
  {
   "cell_type": "markdown",
   "metadata": {
    "colab_type": "text",
    "id": "aEau5nEvJpgm"
   },
   "source": [
    "#### 1.1. Importing Libraries"
   ]
  },
  {
   "cell_type": "code",
   "execution_count": 5,
   "metadata": {
    "colab": {},
    "colab_type": "code",
    "id": "7Bt_Q_oPJpgn"
   },
   "outputs": [],
   "source": [
    "# Let's import the pandas, numpy libraries as pd, and np respectively. \n",
    "import pandas as pd\n",
    "import numpy as np\n",
    "\n",
    "# Load the pyplot collection of functions from matplotlib, as plt \n",
    "from matplotlib import pyplot as plt\n"
   ]
  },
  {
   "cell_type": "markdown",
   "metadata": {
    "colab_type": "text",
    "id": "koUrawxsJpgq"
   },
   "source": [
    "#### 1.2.  Loading the data\n",
    "Your data comes from the [London Datastore](https://data.london.gov.uk/): a free, open-source data-sharing portal for London-oriented datasets. "
   ]
  },
  {
   "cell_type": "code",
   "execution_count": 6,
   "metadata": {
    "colab": {},
    "colab_type": "code",
    "id": "AiLiD4v3Jpgr"
   },
   "outputs": [],
   "source": [
    "# First, make a variable called url_LondonHousePrices, and assign it the following link, enclosed in quotation-marks as a string:\n",
    "# https://data.london.gov.uk/download/uk-house-price-index/70ac0766-8902-4eb5-aab5-01951aaed773/UK%20House%20price%20index.xls\n",
    "\n",
    "url_LondonHousePrices = \"https://data.london.gov.uk/download/uk-house-price-index/70ac0766-8902-4eb5-aab5-01951aaed773/UK%20House%20price%20index.xls\"\n",
    "\n",
    "# The dataset we're interested in contains the Average prices of the houses, and is actually on a particular sheet of the Excel file. \n",
    "# As a result, we need to specify the sheet name in the read_excel() method.\n",
    "# Put this data into a variable called properties.  \n",
    "properties = pd.read_excel(url_LondonHousePrices, sheet_name='Average price', index_col= None)"
   ]
  },
  {
   "cell_type": "markdown",
   "metadata": {
    "colab_type": "text",
    "id": "POukEJXgJpgu"
   },
   "source": [
    "### 2. Cleaning, transforming, and visualizing\n",
    "This second stage is arguably the most important part of any Data Science project. The first thing to do is take a proper look at the data. Cleaning forms the majority of this stage, and can be done both before or after Transformation.\n",
    "\n",
    "The end goal of data cleaning is to have tidy data. When data is tidy: \n",
    "\n",
    "1. Each variable has a column.\n",
    "2. Each observation forms a row.\n",
    "\n",
    "Keep the end goal in mind as you move through this process, every step will take you closer. \n",
    "\n",
    "\n",
    "\n",
    "***Hint:*** This part of the data science pipeline should test those skills you acquired in: \n",
    "- Intermediate Python for data science, all modules.\n",
    "- pandas Foundations, all modules. \n",
    "- Manipulating DataFrames with pandas, all modules.\n",
    "- Data Types for Data Science, Module Four.\n",
    "- Python Data Science Toolbox - Part One, all modules"
   ]
  },
  {
   "cell_type": "markdown",
   "metadata": {
    "colab_type": "text",
    "id": "Te0Q548tnzZa"
   },
   "source": [
    "**2.1. Exploring your data** \n",
    "\n",
    "Think about your pandas functions for checking out a dataframe. "
   ]
  },
  {
   "cell_type": "code",
   "execution_count": 7,
   "metadata": {
    "colab": {},
    "colab_type": "code",
    "id": "Rxirxw_qoAJa"
   },
   "outputs": [
    {
     "name": "stdout",
     "output_type": "stream",
     "text": [
      "Properties Head\n",
      "  Unnamed: 0 City of London Barking & Dagenham       Barnet       Bexley  \\\n",
      "0        NaT      E09000001          E09000002    E09000003    E09000004   \n",
      "1 1995-01-01    91448.98487         50460.2266  93284.51832  64958.09036   \n",
      "2 1995-02-01    82202.77314        51085.77983  93190.16963  64787.92069   \n",
      "3 1995-03-01    79120.70256        51268.96956  92247.52435  64367.49344   \n",
      "4 1995-04-01    77101.20804        53133.50526  90762.87492  64277.66881   \n",
      "\n",
      "         Brent      Bromley       Camden      Croydon       Ealing  ...  \\\n",
      "0    E09000005    E09000006    E09000007    E09000008    E09000009  ...   \n",
      "1  71306.56698  81671.47692  120932.8881  69158.16225  79885.89069  ...   \n",
      "2  72022.26197  81657.55944  119508.8622  68951.09542  80897.06551  ...   \n",
      "3  72015.76274  81449.31143  120282.2131  68712.44341  81379.86288  ...   \n",
      "4  72965.63094  81124.41227   120097.899  68610.04641  82188.90498  ...   \n",
      "\n",
      "    NORTH WEST YORKS & THE HUMBER EAST MIDLANDS WEST MIDLANDS EAST OF ENGLAND  \\\n",
      "0    E12000002          E12000003     E12000004     E12000005       E12000006   \n",
      "1  43958.48001        44803.42878   45544.52227   48527.52339      56701.5961   \n",
      "2  43925.42289        44528.80721   46051.57066   49341.29029     56593.59475   \n",
      "3   44434.8681        45200.46775   45383.82395   49442.17973     56171.18278   \n",
      "4   44267.7796        45614.34341   46124.23045   49455.93299     56567.89582   \n",
      "\n",
      "        LONDON   SOUTH EAST   SOUTH WEST Unnamed: 47      England  \n",
      "0    E12000007    E12000008    E12000009         NaN    E92000001  \n",
      "1  74435.76052  64018.87894   54705.1579         NaN  53202.77128  \n",
      "2  72777.93709  63715.02399  54356.14843         NaN   53096.1549  \n",
      "3  73896.84204  64113.60858  53583.07667         NaN   53201.2843  \n",
      "4  74455.28754  64623.22395  54786.01938         NaN   53590.8548  \n",
      "\n",
      "[5 rows x 49 columns] \n",
      "\n",
      "Properties Keys\n",
      "Index(['Unnamed: 0', 'City of London', 'Barking & Dagenham', 'Barnet',\n",
      "       'Bexley', 'Brent', 'Bromley', 'Camden', 'Croydon', 'Ealing', 'Enfield',\n",
      "       'Greenwich', 'Hackney', 'Hammersmith & Fulham', 'Haringey', 'Harrow',\n",
      "       'Havering', 'Hillingdon', 'Hounslow', 'Islington',\n",
      "       'Kensington & Chelsea', 'Kingston upon Thames', 'Lambeth', 'Lewisham',\n",
      "       'Merton', 'Newham', 'Redbridge', 'Richmond upon Thames', 'Southwark',\n",
      "       'Sutton', 'Tower Hamlets', 'Waltham Forest', 'Wandsworth',\n",
      "       'Westminster', 'Unnamed: 34', 'Inner London', 'Outer London',\n",
      "       'Unnamed: 37', 'NORTH EAST', 'NORTH WEST', 'YORKS & THE HUMBER',\n",
      "       'EAST MIDLANDS', 'WEST MIDLANDS', 'EAST OF ENGLAND', 'LONDON',\n",
      "       'SOUTH EAST', 'SOUTH WEST', 'Unnamed: 47', 'England'],\n",
      "      dtype='object') \n",
      "\n",
      "Properties Shape\n",
      "(336, 49) \n",
      "\n"
     ]
    }
   ],
   "source": [
    "shape = properties.shape\n",
    "keys = properties.keys()\n",
    "head = properties.head()\n",
    "\n",
    "\n",
    "\n",
    "print('Properties Head')\n",
    "print(head,'\\n')\n",
    "\n",
    "print('Properties Keys')\n",
    "print(keys, '\\n')\n",
    "\n",
    "print('Properties Shape')\n",
    "print(shape, '\\n')\n"
   ]
  },
  {
   "cell_type": "markdown",
   "metadata": {
    "colab_type": "text",
    "id": "tE9Sqt9-oAta"
   },
   "source": [
    "**2.2. Cleaning the data**\n",
    "\n",
    "You might find you need to transpose your dataframe, check out what its row indexes are, and reset the index. You  also might find you need to assign the values of the first row to your column headings  . (Hint: recall the .columns feature of DataFrames, as well as the iloc[] method).\n",
    "\n",
    "Don't be afraid to use StackOverflow for help  with this."
   ]
  },
  {
   "cell_type": "code",
   "execution_count": 8,
   "metadata": {
    "colab": {},
    "colab_type": "code",
    "id": "cdAu1A3YoH_r",
    "scrolled": false
   },
   "outputs": [
    {
     "name": "stdout",
     "output_type": "stream",
     "text": [
      "Properties Transposed \n",
      "\n",
      "                          0                    1                    2    \\\n",
      "Unnamed: 0                NaT  1995-01-01 00:00:00  1995-02-01 00:00:00   \n",
      "City of London      E09000001          91448.98487          82202.77314   \n",
      "Barking & Dagenham  E09000002           50460.2266          51085.77983   \n",
      "Barnet              E09000003          93284.51832          93190.16963   \n",
      "Bexley              E09000004          64958.09036          64787.92069   \n",
      "Brent               E09000005          71306.56698          72022.26197   \n",
      "Bromley             E09000006          81671.47692          81657.55944   \n",
      "Camden              E09000007          120932.8881          119508.8622   \n",
      "Croydon             E09000008          69158.16225          68951.09542   \n",
      "Ealing              E09000009          79885.89069          80897.06551   \n",
      "\n",
      "                                    3                    4    \\\n",
      "Unnamed: 0          1995-03-01 00:00:00  1995-04-01 00:00:00   \n",
      "City of London              79120.70256          77101.20804   \n",
      "Barking & Dagenham          51268.96956          53133.50526   \n",
      "Barnet                      92247.52435          90762.87492   \n",
      "Bexley                      64367.49344          64277.66881   \n",
      "Brent                       72015.76274          72965.63094   \n",
      "Bromley                     81449.31143          81124.41227   \n",
      "Camden                      120282.2131           120097.899   \n",
      "Croydon                     68712.44341          68610.04641   \n",
      "Ealing                      81379.86288          82188.90498   \n",
      "\n",
      "                                    5                    6    \\\n",
      "Unnamed: 0          1995-05-01 00:00:00  1995-06-01 00:00:00   \n",
      "City of London              84409.14932          94900.51244   \n",
      "Barking & Dagenham          53042.24852          53700.34831   \n",
      "Barnet                      90258.00033          90107.23471   \n",
      "Bexley                      63997.13588          64252.32335   \n",
      "Brent                       73704.04743          74310.48167   \n",
      "Bromley                     81542.61561          82382.83435   \n",
      "Camden                      119929.2782          121887.4625   \n",
      "Croydon                      68844.9169          69052.51103   \n",
      "Ealing                      82077.05525          81630.66181   \n",
      "\n",
      "                                    7                    8    \\\n",
      "Unnamed: 0          1995-07-01 00:00:00  1995-08-01 00:00:00   \n",
      "City of London              110128.0423          112329.4376   \n",
      "Barking & Dagenham          52113.12157          52232.19868   \n",
      "Barnet                      91441.24768          92361.31512   \n",
      "Bexley                      63722.70055          64432.60005   \n",
      "Brent                       74127.03788           73547.0411   \n",
      "Bromley                     82898.52264          82054.37156   \n",
      "Camden                      124027.5768          125529.8039   \n",
      "Croydon                     69142.48112          68993.42545   \n",
      "Ealing                       82352.2226          82706.65927   \n",
      "\n",
      "                                    9    ...                  326  \\\n",
      "Unnamed: 0          1995-09-01 00:00:00  ...  2022-02-01 00:00:00   \n",
      "City of London              104473.1096  ...         849362.10359   \n",
      "Barking & Dagenham          51471.61353  ...         338140.92018   \n",
      "Barnet                      93273.12245  ...         569623.80083   \n",
      "Bexley                      64509.54767  ...         382615.07011   \n",
      "Brent                       73789.54287  ...         511369.12919   \n",
      "Bromley                     81440.43008  ...         479175.04747   \n",
      "Camden                      120596.8511  ...          869304.3176   \n",
      "Croydon                     69393.50023  ...         405126.73724   \n",
      "Ealing                      82011.08271  ...          518329.5088   \n",
      "\n",
      "                                    327                  328  \\\n",
      "Unnamed: 0          2022-03-01 00:00:00  2022-04-01 00:00:00   \n",
      "City of London             824133.84749         816422.34262   \n",
      "Barking & Dagenham         338630.76578          334154.4325   \n",
      "Barnet                     572378.86549         581748.16762   \n",
      "Bexley                     386187.71672         384938.87516   \n",
      "Brent                      510197.10529         521597.06535   \n",
      "Bromley                    480942.34725         487594.60352   \n",
      "Camden                     880128.14194         872948.97212   \n",
      "Croydon                    408879.83282         412080.36203   \n",
      "Ealing                     516271.44574         513803.60641   \n",
      "\n",
      "                                    329                  330  \\\n",
      "Unnamed: 0          2022-05-01 00:00:00  2022-06-01 00:00:00   \n",
      "City of London             803547.89146          827409.5555   \n",
      "Barking & Dagenham         336216.34247         344634.40197   \n",
      "Barnet                      588134.0976         593149.67956   \n",
      "Bexley                     386486.54544         392123.23696   \n",
      "Brent                      529215.55293         528435.52216   \n",
      "Bromley                     491271.1038         501529.75775   \n",
      "Camden                     846413.34464         833254.76311   \n",
      "Croydon                     415260.3641         415549.43995   \n",
      "Ealing                     517031.81689         522216.38733   \n",
      "\n",
      "                                    331                  332  \\\n",
      "Unnamed: 0          2022-07-01 00:00:00  2022-08-01 00:00:00   \n",
      "City of London             811816.90685         827263.45864   \n",
      "Barking & Dagenham         348406.19705          349490.5043   \n",
      "Barnet                     591298.17908         598728.88783   \n",
      "Bexley                     396178.74246         403542.57044   \n",
      "Brent                      546369.73667         560870.73572   \n",
      "Bromley                    503808.70803         512705.31022   \n",
      "Camden                     846966.90298         866072.69068   \n",
      "Croydon                    419098.18458         426400.97523   \n",
      "Ealing                     527746.15634         531255.87677   \n",
      "\n",
      "                                    333                  334  \\\n",
      "Unnamed: 0          2022-09-01 00:00:00  2022-10-01 00:00:00   \n",
      "City of London             798952.26179         847145.43392   \n",
      "Barking & Dagenham         349998.49435          355205.6703   \n",
      "Barnet                     603197.24048          598389.1354   \n",
      "Bexley                     403388.15587         409595.39249   \n",
      "Brent                      583298.26696         580215.08846   \n",
      "Bromley                    516153.54001         523083.27164   \n",
      "Camden                     855268.80541         843445.80037   \n",
      "Croydon                    432494.23272         432431.04111   \n",
      "Ealing                     537117.27594          543325.5324   \n",
      "\n",
      "                                    335  \n",
      "Unnamed: 0          2022-11-01 00:00:00  \n",
      "City of London             935731.90624  \n",
      "Barking & Dagenham         359766.13814  \n",
      "Barnet                     585172.92015  \n",
      "Bexley                     408113.57717  \n",
      "Brent                      576102.60656  \n",
      "Bromley                     525145.1568  \n",
      "Camden                     848175.15466  \n",
      "Croydon                    430294.62379  \n",
      "Ealing                     546534.85697  \n",
      "\n",
      "[10 rows x 336 columns] \n",
      "\n"
     ]
    }
   ],
   "source": [
    "#Data is wide when it should be long. \n",
    "\n",
    "properties_t = properties.transpose()\n",
    "\n",
    "\n",
    "print('Properties Transposed \\n')\n",
    "print(properties_t.head(10), '\\n')\n",
    "\n",
    "properties_t = properties_t.reset_index()\n"
   ]
  },
  {
   "cell_type": "markdown",
   "metadata": {
    "colab_type": "text",
    "id": "o1uLbJAsoIjK"
   },
   "source": [
    "**2.3. Cleaning the data (part 2)**\n",
    "\n",
    "You might we have to **rename** a couple columns. How do you do this? The clue's pretty bold..."
   ]
  },
  {
   "cell_type": "code",
   "execution_count": 9,
   "metadata": {
    "colab": {},
    "colab_type": "code",
    "id": "GKkmn1AnoVZS"
   },
   "outputs": [
    {
     "name": "stdout",
     "output_type": "stream",
     "text": [
      "Index([   'London_Borough',                'ID', 1995-01-01 00:00:00,\n",
      "       1995-02-01 00:00:00, 1995-03-01 00:00:00, 1995-04-01 00:00:00,\n",
      "       1995-05-01 00:00:00, 1995-06-01 00:00:00, 1995-07-01 00:00:00,\n",
      "       1995-08-01 00:00:00,\n",
      "       ...\n",
      "       2022-02-01 00:00:00, 2022-03-01 00:00:00, 2022-04-01 00:00:00,\n",
      "       2022-05-01 00:00:00, 2022-06-01 00:00:00, 2022-07-01 00:00:00,\n",
      "       2022-08-01 00:00:00, 2022-09-01 00:00:00, 2022-10-01 00:00:00,\n",
      "       2022-11-01 00:00:00],\n",
      "      dtype='object', name=0, length=337) \n",
      "\n",
      "0         London_Borough         ID 1995-01-01 00:00:00 1995-02-01 00:00:00  \\\n",
      "1         City of London  E09000001         91448.98487         82202.77314   \n",
      "2     Barking & Dagenham  E09000002          50460.2266         51085.77983   \n",
      "3                 Barnet  E09000003         93284.51832         93190.16963   \n",
      "4                 Bexley  E09000004         64958.09036         64787.92069   \n",
      "5                  Brent  E09000005         71306.56698         72022.26197   \n",
      "6                Bromley  E09000006         81671.47692         81657.55944   \n",
      "7                 Camden  E09000007         120932.8881         119508.8622   \n",
      "8                Croydon  E09000008         69158.16225         68951.09542   \n",
      "9                 Ealing  E09000009         79885.89069         80897.06551   \n",
      "10               Enfield  E09000010         72514.69096         73155.19746   \n",
      "11             Greenwich  E09000011         62300.10169         60993.26863   \n",
      "12               Hackney  E09000012         61296.52637         63187.08332   \n",
      "13  Hammersmith & Fulham  E09000013         124902.8602          122087.718   \n",
      "14              Haringey  E09000014         76287.56947         78901.21036   \n",
      "15                Harrow  E09000015         84769.52599         83396.10525   \n",
      "16              Havering  E09000016         68000.13774         69393.51294   \n",
      "17            Hillingdon  E09000017         73834.82964          75031.0696   \n",
      "18              Hounslow  E09000018         72231.70537         71051.55852   \n",
      "19             Islington  E09000019         92516.48557         94342.37334   \n",
      "20  Kensington & Chelsea  E09000020         182694.8326         182345.2463   \n",
      "\n",
      "0  1995-03-01 00:00:00 1995-04-01 00:00:00 1995-05-01 00:00:00  \\\n",
      "1          79120.70256         77101.20804         84409.14932   \n",
      "2          51268.96956         53133.50526         53042.24852   \n",
      "3          92247.52435         90762.87492         90258.00033   \n",
      "4          64367.49344         64277.66881         63997.13588   \n",
      "5          72015.76274         72965.63094         73704.04743   \n",
      "6          81449.31143         81124.41227         81542.61561   \n",
      "7          120282.2131          120097.899         119929.2782   \n",
      "8          68712.44341         68610.04641          68844.9169   \n",
      "9          81379.86288         82188.90498         82077.05525   \n",
      "10         72190.44144         71442.92235         70630.77955   \n",
      "11         61377.83464          61927.7246         63512.99103   \n",
      "12         63593.29935         65139.64403         66193.99212   \n",
      "13         120635.9467         121424.6241          124433.539   \n",
      "14         78521.94855         79545.57477          79374.0349   \n",
      "15         83416.23759         83567.88439         83853.65615   \n",
      "16         69368.02407         69444.26215         68534.52248   \n",
      "17         74188.66949         73911.40591         73117.12416   \n",
      "18         72097.99411         71890.28339         72877.47219   \n",
      "19         93465.86407         93344.49305         94346.39917   \n",
      "20         182878.8231         184176.9168         191474.1141   \n",
      "\n",
      "0  1995-06-01 00:00:00 1995-07-01 00:00:00 1995-08-01 00:00:00  ...  \\\n",
      "1          94900.51244         110128.0423         112329.4376  ...   \n",
      "2          53700.34831         52113.12157         52232.19868  ...   \n",
      "3          90107.23471         91441.24768         92361.31512  ...   \n",
      "4          64252.32335         63722.70055         64432.60005  ...   \n",
      "5          74310.48167         74127.03788          73547.0411  ...   \n",
      "6          82382.83435         82898.52264         82054.37156  ...   \n",
      "7          121887.4625         124027.5768         125529.8039  ...   \n",
      "8          69052.51103         69142.48112         68993.42545  ...   \n",
      "9          81630.66181          82352.2226         82706.65927  ...   \n",
      "10         71348.31147         71837.54011         72237.94562  ...   \n",
      "11         64751.56404         65486.34112         65076.43195  ...   \n",
      "12         66921.17101           68390.753         68096.79385  ...   \n",
      "13         126175.1513         124381.5134         123625.3196  ...   \n",
      "14          79956.3621         80746.34881         81217.69074  ...   \n",
      "15         84173.24689         84226.69844         84430.61796  ...   \n",
      "16         68464.60664         68680.83996         69023.36482  ...   \n",
      "17         74005.00585         74671.13263         74967.86534  ...   \n",
      "18         72331.08116         73717.78844         74479.94802  ...   \n",
      "19         97428.94311         98976.14077         98951.20791  ...   \n",
      "20         197265.7602         197963.3169         198037.4218  ...   \n",
      "\n",
      "0  2022-02-01 00:00:00 2022-03-01 00:00:00 2022-04-01 00:00:00  \\\n",
      "1         849362.10359        824133.84749        816422.34262   \n",
      "2         338140.92018        338630.76578         334154.4325   \n",
      "3         569623.80083        572378.86549        581748.16762   \n",
      "4         382615.07011        386187.71672        384938.87516   \n",
      "5         511369.12919        510197.10529        521597.06535   \n",
      "6         479175.04747        480942.34725        487594.60352   \n",
      "7          869304.3176        880128.14194        872948.97212   \n",
      "8         405126.73724        408879.83282        412080.36203   \n",
      "9          518329.5088        516271.44574        513803.60641   \n",
      "10        433491.32499         436069.1934        442885.07343   \n",
      "11        411754.28619        414329.88986        412433.76263   \n",
      "12        635847.54953        633276.02091        608914.80062   \n",
      "13        757397.80109         751892.7391        747955.09095   \n",
      "14        588614.19353        589485.33861        578954.92781   \n",
      "15        512621.55081        507172.79097        500926.80955   \n",
      "16        405104.21555        407077.56525        414966.51953   \n",
      "17        440528.96191        446197.35652        446954.89971   \n",
      "18        427873.16647        424068.68198        427430.07619   \n",
      "19        691261.18735        699198.29363           720946.02   \n",
      "20        1403941.9423        1473989.5042        1511951.8716   \n",
      "\n",
      "0  2022-05-01 00:00:00 2022-06-01 00:00:00 2022-07-01 00:00:00  \\\n",
      "1         803547.89146         827409.5555        811816.90685   \n",
      "2         336216.34247        344634.40197        348406.19705   \n",
      "3          588134.0976        593149.67956        591298.17908   \n",
      "4         386486.54544        392123.23696        396178.74246   \n",
      "5         529215.55293        528435.52216        546369.73667   \n",
      "6          491271.1038        501529.75775        503808.70803   \n",
      "7         846413.34464        833254.76311        846966.90298   \n",
      "8          415260.3641        415549.43995        419098.18458   \n",
      "9         517031.81689        522216.38733        527746.15634   \n",
      "10        448777.92067        448958.59199         448643.0087   \n",
      "11        423564.22338        433718.55621        435564.47459   \n",
      "12        605181.58521        619989.53186        640347.55357   \n",
      "13        744931.59717        758244.75579        778207.13174   \n",
      "14        585513.59482        587853.68169        595915.15162   \n",
      "15        506206.34625         518333.2832        535326.56106   \n",
      "16        419949.80909        420854.53143        422533.21705   \n",
      "17        448621.81485        453080.75107        456469.44468   \n",
      "18        431125.15509        446262.10803        451605.01197   \n",
      "19        734719.94166        721005.72067        713973.04608   \n",
      "20        1489402.6116         1452515.228        1424306.1302   \n",
      "\n",
      "0  2022-08-01 00:00:00 2022-09-01 00:00:00 2022-10-01 00:00:00  \\\n",
      "1         827263.45864        798952.26179        847145.43392   \n",
      "2          349490.5043        349998.49435         355205.6703   \n",
      "3         598728.88783        603197.24048         598389.1354   \n",
      "4         403542.57044        403388.15587        409595.39249   \n",
      "5         560870.73572        583298.26696        580215.08846   \n",
      "6         512705.31022        516153.54001        523083.27164   \n",
      "7         866072.69068        855268.80541        843445.80037   \n",
      "8         426400.97523        432494.23272        432431.04111   \n",
      "9         531255.87677        537117.27594         543325.5324   \n",
      "10        452618.59278        456951.99233        463200.35599   \n",
      "11        435798.74991        441439.63826        445280.68486   \n",
      "12        652784.15615        655727.87023        656516.18115   \n",
      "13        801639.68901        802095.84143        781109.40628   \n",
      "14        601077.82305        621848.85262        619059.91087   \n",
      "15        538368.42954        535897.49377        531843.13624   \n",
      "16        424876.00889        431570.42285        434050.10862   \n",
      "17        461433.96368        468255.84108        479114.76671   \n",
      "18        453699.03372         457083.6454        460252.82796   \n",
      "19        728449.71814        748732.23711        741705.75359   \n",
      "20        1433855.2614        1459747.2111        1355422.1556   \n",
      "\n",
      "0  2022-11-01 00:00:00  \n",
      "1         935731.90624  \n",
      "2         359766.13814  \n",
      "3         585172.92015  \n",
      "4         408113.57717  \n",
      "5         576102.60656  \n",
      "6          525145.1568  \n",
      "7         848175.15466  \n",
      "8         430294.62379  \n",
      "9         546534.85697  \n",
      "10        463876.98314  \n",
      "11         445576.8847  \n",
      "12        653045.85891  \n",
      "13        737402.49479  \n",
      "14        627514.96968  \n",
      "15        526805.75513  \n",
      "16        440446.51055  \n",
      "17        488425.68562  \n",
      "18        468882.69792  \n",
      "19        713205.47199  \n",
      "20        1349778.3806  \n",
      "\n",
      "[20 rows x 337 columns]\n"
     ]
    }
   ],
   "source": [
    "#reset index to make it easier to rename columns\n",
    "\n",
    "properties_t.columns = properties_t.iloc[0]\n",
    "properties_t = properties_t.drop(0)\n",
    "properties_r = properties_t.rename(columns = {'Unnamed: 0':'London_Borough', pd.NaT: 'ID'})\n",
    "\n",
    "print(properties_r.columns, '\\n')\n",
    "print(properties_r.head(20))\n"
   ]
  },
  {
   "cell_type": "markdown",
   "metadata": {
    "colab_type": "text",
    "id": "jy8BzXHmoWEw"
   },
   "source": [
    "**2.4.Transforming the data**\n",
    "\n",
    "Remember what Wes McKinney said about tidy data? \n",
    "\n",
    "You might need to **melt** your DataFrame here. "
   ]
  },
  {
   "cell_type": "code",
   "execution_count": 11,
   "metadata": {
    "colab": {},
    "colab_type": "code",
    "id": "S2wM0qLuo2Zt"
   },
   "outputs": [
    {
     "name": "stdout",
     "output_type": "stream",
     "text": [
      "           London_Borough         ID      Month Average_price\n",
      "0          City of London  E09000001 1995-01-01   91448.98487\n",
      "1      Barking & Dagenham  E09000002 1995-01-01    50460.2266\n",
      "2                  Barnet  E09000003 1995-01-01   93284.51832\n",
      "3                  Bexley  E09000004 1995-01-01   64958.09036\n",
      "4                   Brent  E09000005 1995-01-01   71306.56698\n",
      "...                   ...        ...        ...           ...\n",
      "16075              LONDON  E12000007 2022-11-01  542310.89724\n",
      "16076          SOUTH EAST  E12000008 2022-11-01  402466.09073\n",
      "16077          SOUTH WEST  E12000009 2022-11-01   337144.1219\n",
      "16078         Unnamed: 47        NaN 2022-11-01           NaN\n",
      "16079             England  E92000001 2022-11-01  315072.63643\n",
      "\n",
      "[16080 rows x 4 columns]\n"
     ]
    }
   ],
   "source": [
    "properties_m = pd.melt(properties_r, id_vars=['London_Borough', 'ID'])\n",
    "properties_cleaned = properties_m.rename(columns = {0: 'Month', 'value': 'Average_price'})\n",
    "print(properties_cleaned)\n"
   ]
  },
  {
   "cell_type": "markdown",
   "metadata": {
    "colab_type": "text",
    "id": "7kIsgAo7o3mf"
   },
   "source": [
    "Remember to make sure your column data types are all correct. Average prices, for example, should be floating point numbers... "
   ]
  },
  {
   "cell_type": "code",
   "execution_count": 12,
   "metadata": {
    "colab": {},
    "colab_type": "code",
    "id": "ZcR4IHbcpOaq"
   },
   "outputs": [
    {
     "name": "stdout",
     "output_type": "stream",
     "text": [
      "float64\n",
      "datetime64[ns]\n",
      "object\n"
     ]
    }
   ],
   "source": [
    "#original dtype was object\n",
    "properties_cleaned['Average_price'] = pd.to_numeric(properties_cleaned['Average_price'])\n",
    "\n",
    "print(properties_cleaned['Average_price'].dtype)\n",
    "print(properties_cleaned[\"Month\"].dtype)\n",
    "print(properties_cleaned['London_Borough'].dtype)\n"
   ]
  },
  {
   "cell_type": "markdown",
   "metadata": {
    "colab_type": "text",
    "id": "knLUXHLypOtw"
   },
   "source": [
    "**2.5. Cleaning the data (part 3)**\n",
    "\n",
    "Do we have an equal number of observations in the ID, Average Price, Month, and London Borough columns? Remember that there are only 32 London Boroughs. How many entries do you have in that column? \n",
    "\n",
    "Check out the contents of the London Borough column, and if you find null values, get rid of them however you see fit. "
   ]
  },
  {
   "cell_type": "code",
   "execution_count": 13,
   "metadata": {
    "colab": {},
    "colab_type": "code",
    "id": "BnvTW5a3p0fC",
    "scrolled": true
   },
   "outputs": [
    {
     "name": "stdout",
     "output_type": "stream",
     "text": [
      "48 \n",
      "\n",
      "['City of London', 'Barking & Dagenham', 'Barnet', 'Bexley', 'Brent', 'Bromley', 'Camden', 'Croydon', 'Ealing', 'Enfield', 'Greenwich', 'Hackney', 'Hammersmith & Fulham', 'Haringey', 'Harrow', 'Havering', 'Hillingdon', 'Hounslow', 'Islington', 'Kensington & Chelsea', 'Kingston upon Thames', 'Lambeth', 'Lewisham', 'Merton', 'Newham', 'Redbridge', 'Richmond upon Thames', 'Southwark', 'Sutton', 'Tower Hamlets', 'Waltham Forest', 'Wandsworth', 'Westminster', 'Unnamed: 34', 'Inner London', 'Outer London', 'Unnamed: 37', 'NORTH EAST', 'NORTH WEST', 'YORKS & THE HUMBER', 'EAST MIDLANDS', 'WEST MIDLANDS', 'EAST OF ENGLAND', 'LONDON', 'SOUTH EAST', 'SOUTH WEST', 'Unnamed: 47', 'England'] \n",
      "\n",
      "           London_Borough         ID      Month  Average_price\n",
      "0          City of London  E09000001 1995-01-01    91448.98487\n",
      "1      Barking & Dagenham  E09000002 1995-01-01    50460.22660\n",
      "2                  Barnet  E09000003 1995-01-01    93284.51832\n",
      "3                  Bexley  E09000004 1995-01-01    64958.09036\n",
      "4                   Brent  E09000005 1995-01-01    71306.56698\n",
      "...                   ...        ...        ...            ...\n",
      "16062      Waltham Forest  E09000031 2022-11-01   524111.23272\n",
      "16063          Wandsworth  E09000032 2022-11-01   643910.41623\n",
      "16064         Westminster  E09000033 2022-11-01   934508.24185\n",
      "16066        Inner London  E13000001 2022-11-01   626889.66107\n",
      "16067        Outer London  E13000002 2022-11-01   499969.57194\n",
      "\n",
      "[11725 rows x 4 columns]\n"
     ]
    }
   ],
   "source": [
    "print(len(properties_cleaned['London_Borough'].unique()), '\\n')\n",
    "print(list(properties_cleaned['London_Borough'].unique()), '\\n')\n",
    "\n",
    "unnamed_34 = properties_cleaned[properties_cleaned['London_Borough'] == 'Unnamed: 34']\n",
    "unnamed_37 = properties_cleaned[properties_cleaned['London_Borough'] == 'Unnamed: 37']\n",
    "north_east = properties_cleaned[properties_cleaned['London_Borough'] == 'NORTH EAST']\n",
    "north_west = properties_cleaned[properties_cleaned['London_Borough'] == 'NORTH WEST']\n",
    "yorks_and_the_humber = properties_cleaned[properties_cleaned['London_Borough'] == 'YORKS & THE HUMBER']\n",
    "east_midlands = properties_cleaned[properties_cleaned['London_Borough'] == 'EAST MIDLANDS']\n",
    "west_midlands = properties_cleaned[properties_cleaned['London_Borough'] == 'WEST MIDLANDS']\n",
    "east_of_england = properties_cleaned[properties_cleaned['London_Borough'] == 'EAST OF ENGLAND']\n",
    "london = properties_cleaned[properties_cleaned['London_Borough'] == 'LONDON']\n",
    "south_east = properties_cleaned[properties_cleaned['London_Borough'] == 'SOUTH EAST']\n",
    "south_west = properties_cleaned[properties_cleaned['London_Borough'] == 'SOUTH WEST']\n",
    "unnamed_47 = properties_cleaned[properties_cleaned['London_Borough'] == 'Unnamed: 47']\n",
    "england = properties_cleaned[properties_cleaned['London_Borough'] == 'ENGLAND']\n",
    "\n",
    "\n",
    "#dropped NA values\n",
    "properties_dropna = properties_cleaned.dropna()\n",
    "\n",
    "\n",
    "not_boroughs = ['NORTH EAST', 'NORTH WEST', 'YORKS & THE HUMBER', 'EAST MIDLANDS', 'WEST MIDLANDS', 'EAST OF ENGLAND', 'LONDON', 'SOUTH EAST', 'SOUTH WEST', 'England']\n",
    "df = properties_dropna[~properties_dropna.London_Borough.isin(not_boroughs)]\n",
    "\n",
    "\n",
    "print(df)"
   ]
  },
  {
   "cell_type": "markdown",
   "metadata": {
    "colab_type": "text",
    "id": "PGEx6mJsp6dG"
   },
   "source": [
    "**2.6. Visualizing the data**\n",
    "\n",
    "To visualize the data, why not subset on a particular London Borough? Maybe do a line plot of Month against Average Price?"
   ]
  },
  {
   "cell_type": "code",
   "execution_count": 14,
   "metadata": {
    "colab": {},
    "colab_type": "code",
    "id": "nAg5pT9cqHAR"
   },
   "outputs": [
    {
     "data": {
      "image/png": "[encoded data removed]",
      "text/plain": [
       "<Figure size 640x480 with 1 Axes>"
      ]
     },
     "metadata": {},
     "output_type": "display_data"
    },
    {
     "data": {
      "image/png": "[encoded data removed]",
      "text/plain": [
       "<Figure size 640x480 with 1 Axes>"
      ]
     },
     "metadata": {},
     "output_type": "display_data"
    }
   ],
   "source": [
    "#mean by borough\n",
    "groupby_borough = df.groupby(df['London_Borough'])['Average_price'].mean()\n",
    "\n",
    "groupby_borough.plot(kind='bar', label='Boroughs')\n",
    "plt.title('Average price by borough')\n",
    "plt.xlabel('London Borough')\n",
    "plt.ylabel('Average Price')\n",
    "plt.show()\n",
    "\n",
    "\n",
    "\n",
    "#each burough isolated in case I need to make more graphics\n",
    "\n",
    "city_of_london = df[df['London_Borough'] == 'City of London']\n",
    "barking_and_dagenham = df[df['London_Borough'] == 'Barking & Dagenham']\n",
    "barnet = df[df['London_Borough'] == 'Barnet']\n",
    "bexley = df[df['London_Borough'] == 'Bexley']\n",
    "brent = df[df['London_Borough'] == 'Brent']\n",
    "bromley =  df[df['London_Borough'] == 'Bromley']\n",
    "camden =  df[df['London_Borough'] == 'Camden']\n",
    "croydon =  df[df['London_Borough'] == 'Croydon']\n",
    "ealing =  df[df['London_Borough'] == 'Ealing']\n",
    "enfield = df[df['London_Borough'] == 'Enfield']\n",
    "greenwich = df[df['London_Borough'] == 'Greenwich']\n",
    "hackney = df[df['London_Borough'] == 'Hackney']\n",
    "hammersmith_and_fulham = df[df['London_Borough'] == 'Hammersmith & Fulham']\n",
    "haringey = df[df['London_Borough'] == 'Haringey']\n",
    "harrow = df[df['London_Borough'] == 'Harrow']\n",
    "havering = df[df['London_Borough'] == 'Havering']\n",
    "hillingdon = df[df['London_Borough'] == 'Hillingdon']\n",
    "hounslow = df[df['London_Borough'] == 'Hounslow']\n",
    "islington = df[df['London_Borough'] == 'Islington']\n",
    "kensington_and_chelsea = df[df['London_Borough'] == 'Kensington & Chelsea']\n",
    "kingston_upon_thames = df[df['London_Borough'] == 'Kingston upon Thames']\n",
    "lambeth = df[df['London_Borough'] == 'Lambeth']\n",
    "lewisham = df[df['London_Borough'] == 'Lewisham']\n",
    "merton = df[df['London_Borough'] == 'Merton']\n",
    "newham = df[df['London_Borough'] == 'Newham']\n",
    "redbridge = df[df['London_Borough'] == 'Redbridge']\n",
    "richmond_upon_thames = df[df['London_Borough'] == 'Richmond upon Thames']\n",
    "southwark = df[df['London_Borough'] == 'Southwark']\n",
    "sutton = df[df['London_Borough'] == 'Sutton']\n",
    "tower_hamlets = df[df['London_Borough'] == 'Tower Hamlets']\n",
    "waltham_forest = df[df['London_Borough'] == 'Waltham Forest']\n",
    "wandsworth = df[df['London_Borough'] == 'Wandsworth']\n",
    "westminster = df[df['London_Borough'] == 'Westminster']\n",
    "inner_london = df[df['London_Borough'] == 'Inner London']\n",
    "outer_london = df[df['London_Borough'] == 'Outer London']\n",
    "\n",
    "#graphics by borough\n",
    "\n",
    "plt.plot('Month', 'Average_price', data=city_of_london, color='blue')\n",
    "plt.plot('Month', 'Average_price', data=barking_and_dagenham, color='green')\n",
    "\n",
    "plt.xlabel('Year')\n",
    "plt.ylabel(\"Price\")\n",
    "plt.title('Averages by Borough (City of London vs. Barking & Dagenham)')\n",
    "plt.legend(['City of London', 'Barking & Dagenham'])\n",
    "plt.ylim(0, 999999)\n",
    "plt.show()"
   ]
  },
  {
   "cell_type": "markdown",
   "metadata": {
    "colab_type": "text",
    "id": "aWTPqSJeqHnC"
   },
   "source": [
    "\n",
    "To limit the number of data points you have, you might want to extract the year from every month value your *Month* column. \n",
    "\n",
    "To this end, you *could* apply a ***lambda function***. Your logic could work as follows:\n",
    "1. look through the `Month` column\n",
    "2. extract the year from each individual value in that column \n",
    "3. store that corresponding year as separate column. \n",
    "\n",
    "Whether you go ahead with this is up to you. Just so long as you answer our initial brief: which boroughs of London have seen the greatest house price increase, on average, over the past two decades? "
   ]
  },
  {
   "cell_type": "code",
   "execution_count": 15,
   "metadata": {
    "colab": {},
    "colab_type": "code",
    "id": "e0DF92cyqnu8"
   },
   "outputs": [
    {
     "name": "stdout",
     "output_type": "stream",
     "text": [
      "0    1995\n",
      "1    1995\n",
      "2    1995\n",
      "3    1995\n",
      "4    1995\n",
      "Name: Year, dtype: int64\n",
      "16062    2022\n",
      "16063    2022\n",
      "16064    2022\n",
      "16066    2022\n",
      "16067    2022\n",
      "Name: Year, dtype: int64\n",
      "       London_Borough         ID      Month  Average_price  Year\n",
      "0      City of London  E09000001 1995-01-01    91448.98487  1995\n",
      "1  Barking & Dagenham  E09000002 1995-01-01    50460.22660  1995\n",
      "2              Barnet  E09000003 1995-01-01    93284.51832  1995\n",
      "3              Bexley  E09000004 1995-01-01    64958.09036  1995\n",
      "4               Brent  E09000005 1995-01-01    71306.56698  1995\n"
     ]
    },
    {
     "name": "stderr",
     "output_type": "stream",
     "text": [
      "C:\\Users\\Luv2t\\AppData\\Local\\Temp\\ipykernel_37336\\1920480009.py:1: SettingWithCopyWarning: \n",
      "A value is trying to be set on a copy of a slice from a DataFrame.\n",
      "Try using .loc[row_indexer,col_indexer] = value instead\n",
      "\n",
      "See the caveats in the documentation: https://pandas.pydata.org/pandas-docs/stable/user_guide/indexing.html#returning-a-view-versus-a-copy\n",
      "  df['Year'] = pd.DatetimeIndex(df['Month']).year\n"
     ]
    }
   ],
   "source": [
    "df['Year'] = pd.DatetimeIndex(df['Month']).year\n",
    "print(df['Year'].head())\n",
    "print(df['Year'].tail())\n",
    "print(df.head())"
   ]
  },
  {
   "cell_type": "markdown",
   "metadata": {
    "colab_type": "text",
    "id": "2knuTxAEqoJ4"
   },
   "source": [
    "**3. Modeling**\n",
    "\n",
    "Consider creating a function that will calculate a ratio of house prices, comparing the price of a house in 2018 to the price in 1998.\n",
    "\n",
    "Consider calling this function create_price_ratio.\n",
    "\n",
    "You'd want this function to:\n",
    "1. Take a filter of dfg, specifically where this filter constrains the London_Borough, as an argument. For example, one admissible argument should be: dfg[dfg['London_Borough']=='Camden'].\n",
    "2. Get the Average Price for that Borough, for the years 1998 and 2018.\n",
    "4. Calculate the ratio of the Average Price for 1998 divided by the Average Price for 2018.\n",
    "5. Return that ratio.\n",
    "\n",
    "Once you've written this function, you ultimately want to use it to iterate through all the unique London_Boroughs and work out the ratio capturing the difference of house prices between 1998 and 2018.\n",
    "\n",
    "Bear in mind: you don't have to write a function like this if you don't want to. If you can solve the brief otherwise, then great! \n",
    "\n",
    "***Hint***: This section should test the skills you acquired in:\n",
    "- Python Data Science Toolbox - Part One, all modules"
   ]
  },
  {
   "cell_type": "code",
   "execution_count": 193,
   "metadata": {
    "colab": {},
    "colab_type": "code",
    "id": "cKTyr437UgDa"
   },
   "outputs": [
    {
     "name": "stdout",
     "output_type": "stream",
     "text": [
      "          London_Borough     Ratio\n",
      "0     Barking & Dagenham  4.896674\n",
      "1                 Barnet  4.358208\n",
      "2                 Bexley  4.248971\n",
      "3                  Brent  4.894580\n",
      "4                Bromley  4.094795\n",
      "5                 Camden  4.935379\n",
      "6         City of London  5.301646\n",
      "7                Croydon  4.201105\n",
      "8                 Ealing  4.311452\n",
      "9                Enfield  4.263474\n",
      "10             Greenwich  4.763087\n",
      "11               Hackney  6.198318\n",
      "12  Hammersmith & Fulham  4.137818\n",
      "13              Haringey  5.134660\n",
      "14                Harrow  4.059201\n",
      "15              Havering  4.325226\n",
      "16            Hillingdon  4.200274\n",
      "17              Hounslow  3.976410\n",
      "18          Inner London  5.170888\n",
      "19             Islington  4.844083\n",
      "20  Kensington & Chelsea  5.082467\n",
      "21  Kingston upon Thames  4.270569\n",
      "22               Lambeth  4.957753\n",
      "23              Lewisham  5.449212\n",
      "24                Merton  4.741303\n",
      "25                Newham  5.305404\n",
      "26          Outer London  4.418949\n",
      "27             Redbridge  4.471200\n",
      "28  Richmond upon Thames  4.005161\n",
      "29             Southwark  5.516493\n",
      "30                Sutton  4.118518\n",
      "31         Tower Hamlets  4.626703\n",
      "32        Waltham Forest  5.834787\n",
      "33            Wandsworth  4.757739\n",
      "34           Westminster  5.353591\n"
     ]
    }
   ],
   "source": [
    "df_grouped = round(df.groupby(by=['London_Borough', 'Year']).mean(), 2)\n",
    "df_grouped = df_grouped.reset_index()\n",
    "\n",
    "      \n",
    "boroughs_list = df_grouped['London_Borough'].unique()\n",
    "\n",
    "def create_ratio(borough):\n",
    "   \n",
    "    year_1998 = round(int(borough['Average_price'][borough['Year']==1998]), 2)\n",
    "    year_2018 = round(int(borough['Average_price'][borough['Year']==2018]), 2)\n",
    "    \n",
    "    ratio = [year_2018 / year_1998]\n",
    "    return ratio\n",
    "    \n",
    "\n",
    "create_ratio(df_grouped[df_grouped['London_Borough'] == 'Barking & Dagenham'])    \n",
    "    \n",
    "    \n",
    "ratio_dict = {}\n",
    "    \n",
    "for i in boroughs_list:\n",
    "    boroughs = df_grouped[df_grouped['London_Borough'] == i]\n",
    "    ratio_dict[i] = create_ratio(boroughs)\n",
    "\n",
    "ratio_df = pd.DataFrame.from_dict(ratio_dict).transpose()\n",
    "ratio_df = ratio_df.reset_index()\n",
    "ratio_df = ratio_df.rename(columns={'index':'London_Borough', 0:'Ratio'})\n",
    "print(ratio_df)\n"
   ]
  },
  {
   "cell_type": "raw",
   "metadata": {
    "colab_type": "text",
    "id": "NzYUI7FxJpgv"
   },
   "source": [
    "### 4. Conclusion\n",
    "What can you conclude? Type out your conclusion below. \n",
    "\n",
    "Look back at your notebook. Think about how you might summarize what you have done, and prepare a quick presentation on it to your mentor at your next meeting. \n",
    "\n",
    "We hope you enjoyed this practical project. It should have consolidated your data hygiene and pandas skills by looking at a real-world problem involving just the kind of dataset you might encounter as a budding data scientist. Congratulations, and looking forward to seeing you at the next step in the course! "
   ]
  },
  {
   "cell_type": "markdown",
   "metadata": {},
   "source": [
    "Sourcing and Loading: for this step, I imported pandas, numpy, and matplotlib to assist me with cleaning, organizing, and manipulating the given data. I also imported the csv and created the original dataframe.\n",
    "\n",
    "Cleaning, transforming, and visualizing: for this step, I transposed and melted the data to make the table easier to manipulate. This also made it easier to locate and drop null values and values that were not needed (those categories that were not actual London boroughs). For visualizations, I grouped the properties by borough and printed the average price home by borough as a bar graph. Below that, I separated the boroughs into their own dataframes and compared the City of London to Barking and Dagenham. Lastly, I created a new column in the dataframe that uses the year value from the month column to make analyzing by year easier in the next step.\n",
    "\n",
    "Modeling: for this step, I defined create_ratio using the argument 'borough'. I then defined year_1998 to subset the input borough by year 1998, and year_2018 to subset the input by year 2018. I created two blank lists to append the means of each year into, using for loops. Finally, I divided 1998 by 2018 to get a decimal ratio, and then multiplied the result by 100 to get a percentage. To make it easier to read, I rounded them to the 2nd decimal.\n",
    "\n",
    "Summary: After calling create_ratio on all the London boroughs, it appears that the increase of housing prices between 1998 and 2018 was no less than 16% and no more than 25%. "
   ]
  }
 ],
 "metadata": {
  "colab": {
   "collapsed_sections": [],
   "name": "Springboard Data Science Career Track Unit 4 Challenge - Tier 3 Complete .ipynb",
   "provenance": []
  },
  "kernelspec": {
   "display_name": "Python 3 (ipykernel)",
   "language": "python",
   "name": "python3"
  },
  "language_info": {
   "codemirror_mode": {
    "name": "ipython",
    "version": 3
   },
   "file_extension": ".py",
   "mimetype": "text/x-python",
   "name": "python",
   "nbconvert_exporter": "python",
   "pygments_lexer": "ipython3",
   "version": "3.9.13"
  }
 },
 "nbformat": 4,
 "nbformat_minor": 1
}
